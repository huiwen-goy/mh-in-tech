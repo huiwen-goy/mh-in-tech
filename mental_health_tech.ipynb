{
 "cells": [
  {
   "cell_type": "code",
   "execution_count": 39,
   "id": "7b97ec75",
   "metadata": {},
   "outputs": [],
   "source": [
    "# libraries\n",
    "\n",
    "import numpy as np\n",
    "import pandas as pd\n",
    "\n",
    "pd.options.mode.chained_assignment = None"
   ]
  },
  {
   "cell_type": "markdown",
   "id": "37ee261a",
   "metadata": {},
   "source": [
    "# Data prep"
   ]
  },
  {
   "cell_type": "code",
   "execution_count": 2,
   "id": "ad28474f",
   "metadata": {},
   "outputs": [],
   "source": [
    "# read data\n",
    "\n",
    "data_full = pd.read_csv(\"data_full.csv\")"
   ]
  },
  {
   "cell_type": "code",
   "execution_count": 38,
   "id": "d484e7c2",
   "metadata": {},
   "outputs": [
    {
     "data": {
      "text/plain": [
       "(4398, 106)"
      ]
     },
     "execution_count": 38,
     "metadata": {},
     "output_type": "execute_result"
    }
   ],
   "source": [
    "data_full.shape"
   ]
  },
  {
   "cell_type": "code",
   "execution_count": 4,
   "id": "9e2e1a9b",
   "metadata": {},
   "outputs": [],
   "source": [
    "# choose subset of variables for analysis\n",
    "\n",
    "vars = ['year',\n",
    "        'What country do you live in?',\n",
    "        'Is your employer primarily a tech company/organization?',\n",
    "        'Is your primary role within your company related to tech/IT?',\n",
    "        'Do you currently have a mental health disorder?',\n",
    "        'Have you ever been diagnosed with a mental health disorder?',\n",
    "        'What is your age?',\n",
    "        'What is your gender?',\n",
    "        'What is your race?',\n",
    "        'Does your employer provide mental health benefits as part of healthcare coverage?',\n",
    "        'Do you know the options for mental health care available under your employer-provided health coverage?',\n",
    "        'Has your employer ever formally discussed mental health (for example, as part of a wellness campaign or other official communication)?',\n",
    "        'Does your employer offer resources to learn more about mental health disorders and options for seeking help?',\n",
    "        'If a mental health issue prompted you to request a medical leave from work, how easy or difficult would it be to ask for that leave?',\n",
    "        'Would you feel comfortable discussing a mental health issue with your direct supervisor(s)?',\n",
    "        'Have you ever discussed your mental health with your employer?',\n",
    "        'Would you feel comfortable discussing a mental health issue with your coworkers?',\n",
    "        'Have you ever discussed your mental health with coworkers?',\n",
    "        'Overall, how much importance does your employer place on mental health?',\n",
    "        'Do you have medical coverage (private insurance or state-provided) that includes treatment of mental health disorders?',\n",
    "        'Do you know local or online resources to seek help for a mental health issue?',\n",
    "        'If you have been diagnosed or treated for a mental health disorder, do you ever reveal this to coworkers or employees?',\n",
    "        'If you have revealed a mental health disorder to a coworker or employee, how has this impacted you or the relationship?',\n",
    "        'Do you believe your productivity is ever affected by a mental health issue?',\n",
    "        'If yes, what percentage of your work time (time performing primary or secondary job functions) is affected by a mental health issue?',\n",
    "        'If you have a mental health disorder, how often do you feel that it interferes with your work when being treated effectively?', \n",
    "        'If you have a mental health disorder, how often do you feel that it interferes with your work when _NOT_ being treated effectively (i.e., when you are experiencing symptoms)?',\n",
    "        'Have you observed or experienced an unsupportive or badly handled response to a mental health issue in your current or previous workplace?',\n",
    "        'Have you observed or experienced a supportive or well handled response to a mental health issue in your current or previous workplace?',\n",
    "        'Overall, how well do you think the tech industry supports employees with mental health issues?']\n",
    "\n",
    "temp = data_full.loc[:, vars]"
   ]
  },
  {
   "cell_type": "code",
   "execution_count": 5,
   "id": "7d3d3bf8",
   "metadata": {},
   "outputs": [],
   "source": [
    "# rename\n",
    "\n",
    "temp.columns = ['year',\n",
    "        'country_live',\n",
    "        'employer_tech',\n",
    "        'role_tech',\n",
    "        'current_disorder',\n",
    "        'ever_diagnosed',\n",
    "        'age',\n",
    "        'gender',\n",
    "        'race',\n",
    "        'employer_benefits',\n",
    "        'know_options',\n",
    "        'employer_discussed',\n",
    "        'employer_resources',\n",
    "        'leave_difficulty',\n",
    "        'comfortable_discuss_supervisor',\n",
    "        'have_discussed_employer',\n",
    "        'comfortable_discuss_coworkers',\n",
    "        'have_discussed_coworkers',\n",
    "        'importance_employer',\n",
    "        'coverage_treatment',\n",
    "        'know_resources',\n",
    "        'reveal_diagnosis_coworkers',\n",
    "        'reveal_impacted_coworker',\n",
    "        'productivity_affected',\n",
    "        'percentage_time_affected',\n",
    "        'often_interfere_treated',\n",
    "        'often_interfere_not_treated',\n",
    "        'response_unsupportive',\n",
    "        'response_supportive',\n",
    "        'industry_support']"
   ]
  },
  {
   "cell_type": "code",
   "execution_count": 23,
   "id": "6a1ebf5b",
   "metadata": {},
   "outputs": [
    {
     "data": {
      "text/plain": [
       "(4398, 30)"
      ]
     },
     "execution_count": 23,
     "metadata": {},
     "output_type": "execute_result"
    }
   ],
   "source": [
    "temp.shape"
   ]
  },
  {
   "cell_type": "code",
   "execution_count": 40,
   "id": "1e1e7a68",
   "metadata": {},
   "outputs": [],
   "source": [
    "# filter out non-tech employees (neither tech employer nor tech role)\n",
    "\n",
    "data2 = temp[(temp.employer_tech == 1) | (temp.role_tech == 1)]"
   ]
  },
  {
   "cell_type": "code",
   "execution_count": 41,
   "id": "9977ca5b",
   "metadata": {},
   "outputs": [],
   "source": [
    "# standardize year\n",
    "\n",
    "data2['year_z'] = (data2['year'] - data2['year'].mean()) / data2['year'].std()"
   ]
  },
  {
   "cell_type": "code",
   "execution_count": 42,
   "id": "c573d826",
   "metadata": {},
   "outputs": [],
   "source": [
    "# recode current disorder, Yes=1, No=0, all others NA\n",
    "\n",
    "data2['current_disorder_n'] = np.nan\n",
    "data2['current_disorder_n'][data2.current_disorder == \"Yes\"] = 1\n",
    "data2['current_disorder_n'][data2.current_disorder == \"No\"] = 0"
   ]
  },
  {
   "cell_type": "code",
   "execution_count": 43,
   "id": "fc89314d",
   "metadata": {},
   "outputs": [],
   "source": [
    "# recode gender; female=1, male=0, non-binary as NA\n",
    "\n",
    "data2['gender_n'] = np.nan\n",
    "data2['gender_n'][data2.gender == \"Female\"] = 1\n",
    "data2['gender_n'][data2.gender == \"Male\"] = 0"
   ]
  },
  {
   "cell_type": "code",
   "execution_count": 44,
   "id": "71df4ed2",
   "metadata": {},
   "outputs": [],
   "source": [
    "# recode country; US=1, other=0\n",
    "\n",
    "data2['location_US'] = np.nan\n",
    "data2.location_US[data2.country_live.isin([\"United States of America\", \"United States\"])] = 1\n",
    "data2.location_US[~data2.country_live.isin([\"United States of America\", \"United States\"])] = 0"
   ]
  },
  {
   "cell_type": "code",
   "execution_count": 123,
   "id": "ed7dd8c3",
   "metadata": {},
   "outputs": [],
   "source": [
    "# recode employer_benefits, Yes=1, No=0\n",
    "\n",
    "data2['employer_benefits_n'] = np.nan\n",
    "data2['employer_benefits_n'][data2.employer_benefits == \"Yes\"] = 1\n",
    "data2['employer_benefits_n'][data2.employer_benefits == \"No\"] = 0"
   ]
  },
  {
   "cell_type": "code",
   "execution_count": 124,
   "id": "86af6ce8",
   "metadata": {},
   "outputs": [],
   "source": [
    "data2['employer_discussed_n'] = np.nan\n",
    "data2['employer_discussed_n'][data2.employer_discussed == \"Yes\"] = 1\n",
    "data2['employer_discussed_n'][data2.employer_discussed == \"No\"] = 0"
   ]
  },
  {
   "cell_type": "code",
   "execution_count": 125,
   "id": "22090997",
   "metadata": {},
   "outputs": [],
   "source": [
    "data2['employer_resources_n'] = np.nan\n",
    "data2['employer_resources_n'][data2.employer_resources == \"Yes\"] = 1\n",
    "data2['employer_resources_n'][data2.employer_resources == \"No\"] = 0"
   ]
  },
  {
   "cell_type": "markdown",
   "id": "dc05e901",
   "metadata": {},
   "source": [
    "# Logistic regression: Disorder ~ Time * Gender"
   ]
  },
  {
   "cell_type": "code",
   "execution_count": 68,
   "id": "a3f819a5",
   "metadata": {},
   "outputs": [
    {
     "data": {
      "text/plain": [
       "(3592, 3)"
      ]
     },
     "execution_count": 68,
     "metadata": {},
     "output_type": "execute_result"
    }
   ],
   "source": [
    "# Only complete cases\n",
    "\n",
    "c1 = data2[['current_disorder_n', 'year_z', 'gender_n']]\n",
    "c1.shape"
   ]
  },
  {
   "cell_type": "code",
   "execution_count": 69,
   "id": "abc1e8c4",
   "metadata": {},
   "outputs": [
    {
     "data": {
      "text/plain": [
       "(1828, 3)"
      ]
     },
     "execution_count": 69,
     "metadata": {},
     "output_type": "execute_result"
    }
   ],
   "source": [
    "c1.dropna(axis = 0, how = 'any', inplace=True)\n",
    "c1.shape"
   ]
  },
  {
   "cell_type": "code",
   "execution_count": null,
   "id": "6e5a2cb8",
   "metadata": {},
   "outputs": [],
   "source": [
    "import statsmodels.formula.api as smf"
   ]
  },
  {
   "cell_type": "code",
   "execution_count": 92,
   "id": "7b31b04b",
   "metadata": {},
   "outputs": [
    {
     "name": "stdout",
     "output_type": "stream",
     "text": [
      "Optimization terminated successfully.\n",
      "         Current function value: 0.674063\n",
      "         Iterations 4\n"
     ]
    }
   ],
   "source": [
    "# current disorder ~ time, gender\n",
    "\n",
    "m1 = smf.mnlogit(formula = 'current_disorder_n ~ year_z*gender_n', data = c1).fit()"
   ]
  },
  {
   "cell_type": "code",
   "execution_count": 93,
   "id": "27882941",
   "metadata": {},
   "outputs": [
    {
     "data": {
      "text/html": [
       "<table class=\"simpletable\">\n",
       "<caption>MNLogit Regression Results</caption>\n",
       "<tr>\n",
       "  <th>Dep. Variable:</th>   <td>current_disorder_n</td> <th>  No. Observations:  </th>  <td>  1828</td>  \n",
       "</tr>\n",
       "<tr>\n",
       "  <th>Model:</th>                 <td>MNLogit</td>      <th>  Df Residuals:      </th>  <td>  1824</td>  \n",
       "</tr>\n",
       "<tr>\n",
       "  <th>Method:</th>                  <td>MLE</td>        <th>  Df Model:          </th>  <td>     3</td>  \n",
       "</tr>\n",
       "<tr>\n",
       "  <th>Date:</th>             <td>Thu, 04 Nov 2021</td>  <th>  Pseudo R-squ.:     </th>  <td>0.02291</td> \n",
       "</tr>\n",
       "<tr>\n",
       "  <th>Time:</th>                 <td>16:55:51</td>      <th>  Log-Likelihood:    </th> <td> -1232.2</td> \n",
       "</tr>\n",
       "<tr>\n",
       "  <th>converged:</th>              <td>True</td>        <th>  LL-Null:           </th> <td> -1261.1</td> \n",
       "</tr>\n",
       "<tr>\n",
       "  <th>Covariance Type:</th>      <td>nonrobust</td>     <th>  LLR p-value:       </th> <td>1.755e-12</td>\n",
       "</tr>\n",
       "</table>\n",
       "<table class=\"simpletable\">\n",
       "<tr>\n",
       "  <th>current_disorder_n=1</th>    <th>coef</th>     <th>std err</th>      <th>z</th>      <th>P>|z|</th>  <th>[0.025</th>    <th>0.975]</th>  \n",
       "</tr>\n",
       "<tr>\n",
       "  <th>Intercept</th>            <td>   -0.1277</td> <td>    0.066</td> <td>   -1.928</td> <td> 0.054</td> <td>   -0.258</td> <td>    0.002</td>\n",
       "</tr>\n",
       "<tr>\n",
       "  <th>year_z</th>               <td>    0.1602</td> <td>    0.081</td> <td>    1.970</td> <td> 0.049</td> <td>    0.001</td> <td>    0.320</td>\n",
       "</tr>\n",
       "<tr>\n",
       "  <th>gender_n</th>             <td>    0.8504</td> <td>    0.133</td> <td>    6.376</td> <td> 0.000</td> <td>    0.589</td> <td>    1.112</td>\n",
       "</tr>\n",
       "<tr>\n",
       "  <th>year_z:gender_n</th>      <td>   -0.1739</td> <td>    0.156</td> <td>   -1.113</td> <td> 0.266</td> <td>   -0.480</td> <td>    0.132</td>\n",
       "</tr>\n",
       "</table>"
      ],
      "text/plain": [
       "<class 'statsmodels.iolib.summary.Summary'>\n",
       "\"\"\"\n",
       "                          MNLogit Regression Results                          \n",
       "==============================================================================\n",
       "Dep. Variable:     current_disorder_n   No. Observations:                 1828\n",
       "Model:                        MNLogit   Df Residuals:                     1824\n",
       "Method:                           MLE   Df Model:                            3\n",
       "Date:                Thu, 04 Nov 2021   Pseudo R-squ.:                 0.02291\n",
       "Time:                        16:55:51   Log-Likelihood:                -1232.2\n",
       "converged:                       True   LL-Null:                       -1261.1\n",
       "Covariance Type:            nonrobust   LLR p-value:                 1.755e-12\n",
       "========================================================================================\n",
       "current_disorder_n=1       coef    std err          z      P>|z|      [0.025      0.975]\n",
       "----------------------------------------------------------------------------------------\n",
       "Intercept               -0.1277      0.066     -1.928      0.054      -0.258       0.002\n",
       "year_z                   0.1602      0.081      1.970      0.049       0.001       0.320\n",
       "gender_n                 0.8504      0.133      6.376      0.000       0.589       1.112\n",
       "year_z:gender_n         -0.1739      0.156     -1.113      0.266      -0.480       0.132\n",
       "========================================================================================\n",
       "\"\"\""
      ]
     },
     "execution_count": 93,
     "metadata": {},
     "output_type": "execute_result"
    }
   ],
   "source": [
    "m1.summary()"
   ]
  },
  {
   "cell_type": "code",
   "execution_count": 106,
   "id": "77d4a0b9",
   "metadata": {},
   "outputs": [
    {
     "data": {
      "text/html": [
       "<div>\n",
       "<style scoped>\n",
       "    .dataframe tbody tr th:only-of-type {\n",
       "        vertical-align: middle;\n",
       "    }\n",
       "\n",
       "    .dataframe tbody tr th {\n",
       "        vertical-align: top;\n",
       "    }\n",
       "\n",
       "    .dataframe thead th {\n",
       "        text-align: right;\n",
       "    }\n",
       "</style>\n",
       "<table border=\"1\" class=\"dataframe\">\n",
       "  <thead>\n",
       "    <tr style=\"text-align: right;\">\n",
       "      <th></th>\n",
       "      <th>0</th>\n",
       "    </tr>\n",
       "  </thead>\n",
       "  <tbody>\n",
       "    <tr>\n",
       "      <th>Intercept</th>\n",
       "      <td>0.880108</td>\n",
       "    </tr>\n",
       "    <tr>\n",
       "      <th>year_z</th>\n",
       "      <td>1.173779</td>\n",
       "    </tr>\n",
       "    <tr>\n",
       "      <th>gender_n</th>\n",
       "      <td>2.340662</td>\n",
       "    </tr>\n",
       "    <tr>\n",
       "      <th>year_z:gender_n</th>\n",
       "      <td>0.840380</td>\n",
       "    </tr>\n",
       "  </tbody>\n",
       "</table>\n",
       "</div>"
      ],
      "text/plain": [
       "                        0\n",
       "Intercept        0.880108\n",
       "year_z           1.173779\n",
       "gender_n         2.340662\n",
       "year_z:gender_n  0.840380"
      ]
     },
     "execution_count": 106,
     "metadata": {},
     "output_type": "execute_result"
    }
   ],
   "source": [
    "pd.DataFrame(np.exp(m1.params))"
   ]
  },
  {
   "cell_type": "code",
   "execution_count": 107,
   "id": "c7c18e92",
   "metadata": {},
   "outputs": [
    {
     "data": {
      "text/html": [
       "<div>\n",
       "<style scoped>\n",
       "    .dataframe tbody tr th:only-of-type {\n",
       "        vertical-align: middle;\n",
       "    }\n",
       "\n",
       "    .dataframe tbody tr th {\n",
       "        vertical-align: top;\n",
       "    }\n",
       "\n",
       "    .dataframe thead th {\n",
       "        text-align: right;\n",
       "    }\n",
       "</style>\n",
       "<table border=\"1\" class=\"dataframe\">\n",
       "  <thead>\n",
       "    <tr style=\"text-align: right;\">\n",
       "      <th></th>\n",
       "      <th></th>\n",
       "      <th>lower</th>\n",
       "      <th>upper</th>\n",
       "    </tr>\n",
       "    <tr>\n",
       "      <th>current_disorder_n</th>\n",
       "      <th></th>\n",
       "      <th></th>\n",
       "      <th></th>\n",
       "    </tr>\n",
       "  </thead>\n",
       "  <tbody>\n",
       "    <tr>\n",
       "      <th rowspan=\"4\" valign=\"top\">1</th>\n",
       "      <th>Intercept</th>\n",
       "      <td>0.772964</td>\n",
       "      <td>1.002102</td>\n",
       "    </tr>\n",
       "    <tr>\n",
       "      <th>year_z</th>\n",
       "      <td>1.000786</td>\n",
       "      <td>1.376675</td>\n",
       "    </tr>\n",
       "    <tr>\n",
       "      <th>gender_n</th>\n",
       "      <td>1.802206</td>\n",
       "      <td>3.039995</td>\n",
       "    </tr>\n",
       "    <tr>\n",
       "      <th>year_z:gender_n</th>\n",
       "      <td>0.618730</td>\n",
       "      <td>1.141431</td>\n",
       "    </tr>\n",
       "  </tbody>\n",
       "</table>\n",
       "</div>"
      ],
      "text/plain": [
       "                                       lower     upper\n",
       "current_disorder_n                                    \n",
       "1                  Intercept        0.772964  1.002102\n",
       "                   year_z           1.000786  1.376675\n",
       "                   gender_n         1.802206  3.039995\n",
       "                   year_z:gender_n  0.618730  1.141431"
      ]
     },
     "execution_count": 107,
     "metadata": {},
     "output_type": "execute_result"
    }
   ],
   "source": [
    "pd.DataFrame(np.exp(m1.conf_int()))"
   ]
  },
  {
   "cell_type": "markdown",
   "id": "2331fea4",
   "metadata": {},
   "source": [
    "### Interpretation\n",
    "\n",
    "- Small effect of time on chances of having a current disorder\n",
    "- Much larger effect of gender (female = higher chances)\n",
    "- No evidence of a time * gender interaction"
   ]
  },
  {
   "cell_type": "markdown",
   "id": "10583502",
   "metadata": {},
   "source": [
    "# Logistic regression: Disorder ~ age + gender + country"
   ]
  },
  {
   "cell_type": "code",
   "execution_count": 109,
   "id": "a27aab50",
   "metadata": {},
   "outputs": [
    {
     "data": {
      "text/plain": [
       "(3592, 4)"
      ]
     },
     "execution_count": 109,
     "metadata": {},
     "output_type": "execute_result"
    }
   ],
   "source": [
    "# complete cases only\n",
    "\n",
    "c2 = data2[['current_disorder_n', 'age', 'gender_n', 'location_US']]\n",
    "c2.shape"
   ]
  },
  {
   "cell_type": "code",
   "execution_count": 110,
   "id": "c74ee38a",
   "metadata": {},
   "outputs": [
    {
     "data": {
      "text/plain": [
       "(1827, 4)"
      ]
     },
     "execution_count": 110,
     "metadata": {},
     "output_type": "execute_result"
    }
   ],
   "source": [
    "c2.dropna(axis = 0, how = 'any', inplace=True)\n",
    "c2.shape"
   ]
  },
  {
   "cell_type": "code",
   "execution_count": 112,
   "id": "c109914d",
   "metadata": {},
   "outputs": [
    {
     "name": "stdout",
     "output_type": "stream",
     "text": [
      "Optimization terminated successfully.\n",
      "         Current function value: 0.650828\n",
      "         Iterations 5\n"
     ]
    }
   ],
   "source": [
    "# current disorder ~ age, gender, country\n",
    "\n",
    "m2 = smf.mnlogit(formula = 'current_disorder_n ~ age + gender_n + location_US', data = c2).fit()"
   ]
  },
  {
   "cell_type": "code",
   "execution_count": 113,
   "id": "217d3aa5",
   "metadata": {},
   "outputs": [
    {
     "data": {
      "text/html": [
       "<table class=\"simpletable\">\n",
       "<caption>MNLogit Regression Results</caption>\n",
       "<tr>\n",
       "  <th>Dep. Variable:</th>   <td>current_disorder_n</td> <th>  No. Observations:  </th>  <td>  1827</td>  \n",
       "</tr>\n",
       "<tr>\n",
       "  <th>Model:</th>                 <td>MNLogit</td>      <th>  Df Residuals:      </th>  <td>  1823</td>  \n",
       "</tr>\n",
       "<tr>\n",
       "  <th>Method:</th>                  <td>MLE</td>        <th>  Df Model:          </th>  <td>     3</td>  \n",
       "</tr>\n",
       "<tr>\n",
       "  <th>Date:</th>             <td>Thu, 04 Nov 2021</td>  <th>  Pseudo R-squ.:     </th>  <td>0.05652</td> \n",
       "</tr>\n",
       "<tr>\n",
       "  <th>Time:</th>                 <td>17:07:39</td>      <th>  Log-Likelihood:    </th> <td> -1189.1</td> \n",
       "</tr>\n",
       "<tr>\n",
       "  <th>converged:</th>              <td>True</td>        <th>  LL-Null:           </th> <td> -1260.3</td> \n",
       "</tr>\n",
       "<tr>\n",
       "  <th>Covariance Type:</th>      <td>nonrobust</td>     <th>  LLR p-value:       </th> <td>1.109e-30</td>\n",
       "</tr>\n",
       "</table>\n",
       "<table class=\"simpletable\">\n",
       "<tr>\n",
       "  <th>current_disorder_n=1</th>    <th>coef</th>     <th>std err</th>      <th>z</th>      <th>P>|z|</th>  <th>[0.025</th>    <th>0.975]</th>  \n",
       "</tr>\n",
       "<tr>\n",
       "  <th>Intercept</th>            <td>   -0.4437</td> <td>    0.224</td> <td>   -1.979</td> <td> 0.048</td> <td>   -0.883</td> <td>   -0.004</td>\n",
       "</tr>\n",
       "<tr>\n",
       "  <th>age</th>                  <td>   -0.0066</td> <td>    0.006</td> <td>   -1.077</td> <td> 0.282</td> <td>   -0.019</td> <td>    0.005</td>\n",
       "</tr>\n",
       "<tr>\n",
       "  <th>gender_n</th>             <td>    0.6583</td> <td>    0.110</td> <td>    5.962</td> <td> 0.000</td> <td>    0.442</td> <td>    0.875</td>\n",
       "</tr>\n",
       "<tr>\n",
       "  <th>location_US</th>          <td>    0.9715</td> <td>    0.105</td> <td>    9.290</td> <td> 0.000</td> <td>    0.767</td> <td>    1.176</td>\n",
       "</tr>\n",
       "</table>"
      ],
      "text/plain": [
       "<class 'statsmodels.iolib.summary.Summary'>\n",
       "\"\"\"\n",
       "                          MNLogit Regression Results                          \n",
       "==============================================================================\n",
       "Dep. Variable:     current_disorder_n   No. Observations:                 1827\n",
       "Model:                        MNLogit   Df Residuals:                     1823\n",
       "Method:                           MLE   Df Model:                            3\n",
       "Date:                Thu, 04 Nov 2021   Pseudo R-squ.:                 0.05652\n",
       "Time:                        17:07:39   Log-Likelihood:                -1189.1\n",
       "converged:                       True   LL-Null:                       -1260.3\n",
       "Covariance Type:            nonrobust   LLR p-value:                 1.109e-30\n",
       "========================================================================================\n",
       "current_disorder_n=1       coef    std err          z      P>|z|      [0.025      0.975]\n",
       "----------------------------------------------------------------------------------------\n",
       "Intercept               -0.4437      0.224     -1.979      0.048      -0.883      -0.004\n",
       "age                     -0.0066      0.006     -1.077      0.282      -0.019       0.005\n",
       "gender_n                 0.6583      0.110      5.962      0.000       0.442       0.875\n",
       "location_US              0.9715      0.105      9.290      0.000       0.767       1.176\n",
       "========================================================================================\n",
       "\"\"\""
      ]
     },
     "execution_count": 113,
     "metadata": {},
     "output_type": "execute_result"
    }
   ],
   "source": [
    "m2.summary()"
   ]
  },
  {
   "cell_type": "code",
   "execution_count": 114,
   "id": "b92659ce",
   "metadata": {},
   "outputs": [
    {
     "data": {
      "text/html": [
       "<div>\n",
       "<style scoped>\n",
       "    .dataframe tbody tr th:only-of-type {\n",
       "        vertical-align: middle;\n",
       "    }\n",
       "\n",
       "    .dataframe tbody tr th {\n",
       "        vertical-align: top;\n",
       "    }\n",
       "\n",
       "    .dataframe thead th {\n",
       "        text-align: right;\n",
       "    }\n",
       "</style>\n",
       "<table border=\"1\" class=\"dataframe\">\n",
       "  <thead>\n",
       "    <tr style=\"text-align: right;\">\n",
       "      <th></th>\n",
       "      <th>0</th>\n",
       "    </tr>\n",
       "  </thead>\n",
       "  <tbody>\n",
       "    <tr>\n",
       "      <th>Intercept</th>\n",
       "      <td>0.641652</td>\n",
       "    </tr>\n",
       "    <tr>\n",
       "      <th>age</th>\n",
       "      <td>0.993425</td>\n",
       "    </tr>\n",
       "    <tr>\n",
       "      <th>gender_n</th>\n",
       "      <td>1.931594</td>\n",
       "    </tr>\n",
       "    <tr>\n",
       "      <th>location_US</th>\n",
       "      <td>2.641780</td>\n",
       "    </tr>\n",
       "  </tbody>\n",
       "</table>\n",
       "</div>"
      ],
      "text/plain": [
       "                    0\n",
       "Intercept    0.641652\n",
       "age          0.993425\n",
       "gender_n     1.931594\n",
       "location_US  2.641780"
      ]
     },
     "execution_count": 114,
     "metadata": {},
     "output_type": "execute_result"
    }
   ],
   "source": [
    "pd.DataFrame(np.exp(m2.params))"
   ]
  },
  {
   "cell_type": "code",
   "execution_count": 116,
   "id": "4d671249",
   "metadata": {},
   "outputs": [
    {
     "data": {
      "text/html": [
       "<div>\n",
       "<style scoped>\n",
       "    .dataframe tbody tr th:only-of-type {\n",
       "        vertical-align: middle;\n",
       "    }\n",
       "\n",
       "    .dataframe tbody tr th {\n",
       "        vertical-align: top;\n",
       "    }\n",
       "\n",
       "    .dataframe thead th {\n",
       "        text-align: right;\n",
       "    }\n",
       "</style>\n",
       "<table border=\"1\" class=\"dataframe\">\n",
       "  <thead>\n",
       "    <tr style=\"text-align: right;\">\n",
       "      <th></th>\n",
       "      <th></th>\n",
       "      <th>lower</th>\n",
       "      <th>upper</th>\n",
       "    </tr>\n",
       "    <tr>\n",
       "      <th>current_disorder_n</th>\n",
       "      <th></th>\n",
       "      <th></th>\n",
       "      <th></th>\n",
       "    </tr>\n",
       "  </thead>\n",
       "  <tbody>\n",
       "    <tr>\n",
       "      <th rowspan=\"4\" valign=\"top\">1</th>\n",
       "      <th>Intercept</th>\n",
       "      <td>0.413482</td>\n",
       "      <td>0.995734</td>\n",
       "    </tr>\n",
       "    <tr>\n",
       "      <th>age</th>\n",
       "      <td>0.981564</td>\n",
       "      <td>1.005429</td>\n",
       "    </tr>\n",
       "    <tr>\n",
       "      <th>gender_n</th>\n",
       "      <td>1.555669</td>\n",
       "      <td>2.398360</td>\n",
       "    </tr>\n",
       "    <tr>\n",
       "      <th>location_US</th>\n",
       "      <td>2.152240</td>\n",
       "      <td>3.242669</td>\n",
       "    </tr>\n",
       "  </tbody>\n",
       "</table>\n",
       "</div>"
      ],
      "text/plain": [
       "                                   lower     upper\n",
       "current_disorder_n                                \n",
       "1                  Intercept    0.413482  0.995734\n",
       "                   age          0.981564  1.005429\n",
       "                   gender_n     1.555669  2.398360\n",
       "                   location_US  2.152240  3.242669"
      ]
     },
     "execution_count": 116,
     "metadata": {},
     "output_type": "execute_result"
    }
   ],
   "source": [
    "pd.DataFrame(np.exp(m2.conf_int()))"
   ]
  },
  {
   "cell_type": "markdown",
   "id": "4787a393",
   "metadata": {},
   "source": [
    "### Interpretation\n",
    "\n",
    "- No evidence of age affecting chances of having a current disorder\n",
    "- As before, there is an effect of gender (female = higher chances)\n",
    "- Country of residence has an even bigger effect than gender (US = higher chances than non-US location)"
   ]
  },
  {
   "cell_type": "markdown",
   "id": "17d03b5b",
   "metadata": {},
   "source": [
    "# Linear regression: Perceived industry support ~ work benefits + employer formally discussed MH + employer provided MH resources"
   ]
  },
  {
   "cell_type": "code",
   "execution_count": 126,
   "id": "26e86929",
   "metadata": {},
   "outputs": [
    {
     "data": {
      "text/plain": [
       "(3592, 4)"
      ]
     },
     "execution_count": 126,
     "metadata": {},
     "output_type": "execute_result"
    }
   ],
   "source": [
    "c3 = data2[['industry_support', 'employer_benefits_n', 'employer_discussed_n', 'employer_resources_n']]\n",
    "c3.shape"
   ]
  },
  {
   "cell_type": "code",
   "execution_count": 127,
   "id": "b7300a8f",
   "metadata": {},
   "outputs": [
    {
     "data": {
      "text/plain": [
       "(736, 4)"
      ]
     },
     "execution_count": 127,
     "metadata": {},
     "output_type": "execute_result"
    }
   ],
   "source": [
    "c3.dropna(axis = 0, how = 'any', inplace=True)\n",
    "c3.shape"
   ]
  },
  {
   "cell_type": "code",
   "execution_count": 129,
   "id": "1a1e6ea2",
   "metadata": {},
   "outputs": [],
   "source": [
    "# New regression: industry support ~ X\n",
    "\n",
    "m3 = smf.ols(formula = 'industry_support ~ employer_benefits_n + employer_discussed_n + employer_resources_n', \n",
    "             data = c3).fit()"
   ]
  },
  {
   "cell_type": "code",
   "execution_count": 130,
   "id": "a47fa3b8",
   "metadata": {},
   "outputs": [
    {
     "data": {
      "text/html": [
       "<table class=\"simpletable\">\n",
       "<caption>OLS Regression Results</caption>\n",
       "<tr>\n",
       "  <th>Dep. Variable:</th>    <td>industry_support</td> <th>  R-squared:         </th> <td>   0.057</td>\n",
       "</tr>\n",
       "<tr>\n",
       "  <th>Model:</th>                   <td>OLS</td>       <th>  Adj. R-squared:    </th> <td>   0.053</td>\n",
       "</tr>\n",
       "<tr>\n",
       "  <th>Method:</th>             <td>Least Squares</td>  <th>  F-statistic:       </th> <td>   14.82</td>\n",
       "</tr>\n",
       "<tr>\n",
       "  <th>Date:</th>             <td>Thu, 04 Nov 2021</td> <th>  Prob (F-statistic):</th> <td>2.25e-09</td>\n",
       "</tr>\n",
       "<tr>\n",
       "  <th>Time:</th>                 <td>17:33:43</td>     <th>  Log-Likelihood:    </th> <td> -975.73</td>\n",
       "</tr>\n",
       "<tr>\n",
       "  <th>No. Observations:</th>      <td>   736</td>      <th>  AIC:               </th> <td>   1959.</td>\n",
       "</tr>\n",
       "<tr>\n",
       "  <th>Df Residuals:</th>          <td>   732</td>      <th>  BIC:               </th> <td>   1978.</td>\n",
       "</tr>\n",
       "<tr>\n",
       "  <th>Df Model:</th>              <td>     3</td>      <th>                     </th>     <td> </td>   \n",
       "</tr>\n",
       "<tr>\n",
       "  <th>Covariance Type:</th>      <td>nonrobust</td>    <th>                     </th>     <td> </td>   \n",
       "</tr>\n",
       "</table>\n",
       "<table class=\"simpletable\">\n",
       "<tr>\n",
       "            <td></td>              <th>coef</th>     <th>std err</th>      <th>t</th>      <th>P>|t|</th>  <th>[0.025</th>    <th>0.975]</th>  \n",
       "</tr>\n",
       "<tr>\n",
       "  <th>Intercept</th>            <td>    2.2660</td> <td>    0.069</td> <td>   32.690</td> <td> 0.000</td> <td>    2.130</td> <td>    2.402</td>\n",
       "</tr>\n",
       "<tr>\n",
       "  <th>employer_benefits_n</th>  <td>    0.2314</td> <td>    0.089</td> <td>    2.599</td> <td> 0.010</td> <td>    0.057</td> <td>    0.406</td>\n",
       "</tr>\n",
       "<tr>\n",
       "  <th>employer_discussed_n</th> <td>    0.3361</td> <td>    0.087</td> <td>    3.874</td> <td> 0.000</td> <td>    0.166</td> <td>    0.506</td>\n",
       "</tr>\n",
       "<tr>\n",
       "  <th>employer_resources_n</th> <td>    0.0128</td> <td>    0.091</td> <td>    0.141</td> <td> 0.888</td> <td>   -0.166</td> <td>    0.192</td>\n",
       "</tr>\n",
       "</table>\n",
       "<table class=\"simpletable\">\n",
       "<tr>\n",
       "  <th>Omnibus:</th>       <td> 6.260</td> <th>  Durbin-Watson:     </th> <td>   1.977</td>\n",
       "</tr>\n",
       "<tr>\n",
       "  <th>Prob(Omnibus):</th> <td> 0.044</td> <th>  Jarque-Bera (JB):  </th> <td>   4.978</td>\n",
       "</tr>\n",
       "<tr>\n",
       "  <th>Skew:</th>          <td> 0.102</td> <th>  Prob(JB):          </th> <td>  0.0830</td>\n",
       "</tr>\n",
       "<tr>\n",
       "  <th>Kurtosis:</th>      <td> 2.652</td> <th>  Cond. No.          </th> <td>    5.14</td>\n",
       "</tr>\n",
       "</table><br/><br/>Notes:<br/>[1] Standard Errors assume that the covariance matrix of the errors is correctly specified."
      ],
      "text/plain": [
       "<class 'statsmodels.iolib.summary.Summary'>\n",
       "\"\"\"\n",
       "                            OLS Regression Results                            \n",
       "==============================================================================\n",
       "Dep. Variable:       industry_support   R-squared:                       0.057\n",
       "Model:                            OLS   Adj. R-squared:                  0.053\n",
       "Method:                 Least Squares   F-statistic:                     14.82\n",
       "Date:                Thu, 04 Nov 2021   Prob (F-statistic):           2.25e-09\n",
       "Time:                        17:33:43   Log-Likelihood:                -975.73\n",
       "No. Observations:                 736   AIC:                             1959.\n",
       "Df Residuals:                     732   BIC:                             1978.\n",
       "Df Model:                           3                                         \n",
       "Covariance Type:            nonrobust                                         \n",
       "========================================================================================\n",
       "                           coef    std err          t      P>|t|      [0.025      0.975]\n",
       "----------------------------------------------------------------------------------------\n",
       "Intercept                2.2660      0.069     32.690      0.000       2.130       2.402\n",
       "employer_benefits_n      0.2314      0.089      2.599      0.010       0.057       0.406\n",
       "employer_discussed_n     0.3361      0.087      3.874      0.000       0.166       0.506\n",
       "employer_resources_n     0.0128      0.091      0.141      0.888      -0.166       0.192\n",
       "==============================================================================\n",
       "Omnibus:                        6.260   Durbin-Watson:                   1.977\n",
       "Prob(Omnibus):                  0.044   Jarque-Bera (JB):                4.978\n",
       "Skew:                           0.102   Prob(JB):                       0.0830\n",
       "Kurtosis:                       2.652   Cond. No.                         5.14\n",
       "==============================================================================\n",
       "\n",
       "Notes:\n",
       "[1] Standard Errors assume that the covariance matrix of the errors is correctly specified.\n",
       "\"\"\""
      ]
     },
     "execution_count": 130,
     "metadata": {},
     "output_type": "execute_result"
    }
   ],
   "source": [
    "m3.summary()"
   ]
  },
  {
   "cell_type": "markdown",
   "id": "61cfb4ce",
   "metadata": {},
   "source": [
    "### Interpretation\n",
    "\n",
    "- Employees who have mental health benefits at work and whose employers have formally discussed mental health also feel that the industry supports them"
   ]
  }
 ],
 "metadata": {
  "kernelspec": {
   "display_name": "Python 3",
   "language": "python",
   "name": "python3"
  },
  "language_info": {
   "codemirror_mode": {
    "name": "ipython",
    "version": 3
   },
   "file_extension": ".py",
   "mimetype": "text/x-python",
   "name": "python",
   "nbconvert_exporter": "python",
   "pygments_lexer": "ipython3",
   "version": "3.7.10"
  }
 },
 "nbformat": 4,
 "nbformat_minor": 5
}
